{
 "cells": [
  {
   "cell_type": "markdown",
   "metadata": {},
   "source": [
    "导入第三方库"
   ]
  },
  {
   "cell_type": "code",
   "execution_count": 1,
   "metadata": {},
   "outputs": [],
   "source": [
    "import numpy as np\n",
    "from sklearn.linear_model import LinearRegression\n",
    "from sklearn.preprocessing import PolynomialFeatures\n",
    "from sklearn.metrics import r2_score\n",
    "\n",
    "import pandas as pd\n",
    "import numpy as np\n",
    "import math"
   ]
  },
  {
   "cell_type": "markdown",
   "metadata": {},
   "source": [
    "读取数据"
   ]
  },
  {
   "cell_type": "code",
   "execution_count": 2,
   "metadata": {},
   "outputs": [],
   "source": [
    "excel_path = \"date_weather_type.xlsx\"\n",
    "\n",
    "with pd.ExcelFile(excel_path) as excel:\n",
    "    dateGlass_pb = pd.read_excel(excel, sheet_name=\"pb\")\n",
    "    dateGlass_hk = pd.read_excel(excel, sheet_name=\"hk\")"
   ]
  },
  {
   "cell_type": "markdown",
   "metadata": {},
   "source": [
    "获取数据的平均值,简单聚合数据"
   ]
  },
  {
   "cell_type": "code",
   "execution_count": 3,
   "metadata": {},
   "outputs": [],
   "source": [
    "# 还是在dataframe中操作数据\n",
    "def date_mean(dateGlass):\n",
    "\n",
    "    # 获取对应数据\n",
    "    weather_time_date = dateGlass.iloc[:,3:18]\n",
    "    # 按 weather_time 进行分组\n",
    "    date_chemical_contene = weather_time_date.groupby(by=[\"weather_time\"])\n",
    "    # 求均值\n",
    "    mean_values = date_chemical_contene.mean()\n",
    "    # 更改行标签\n",
    "    mean_values.index = range(1, mean_values.shape[0]+1)\n",
    "    return mean_values"
   ]
  },
  {
   "cell_type": "code",
   "execution_count": 4,
   "metadata": {},
   "outputs": [],
   "source": [
    "mean_values_pb = date_mean(dateGlass_pb)\n",
    "mean_values_hk = date_mean(dateGlass_hk)"
   ]
  },
  {
   "cell_type": "markdown",
   "metadata": {},
   "source": [
    "---"
   ]
  },
  {
   "cell_type": "markdown",
   "metadata": {},
   "source": [
    "进行多项式回归的计算,单个化学成分"
   ]
  },
  {
   "cell_type": "code",
   "execution_count": 5,
   "metadata": {},
   "outputs": [],
   "source": [
    "def regression_analyse(mean_values):\n",
    "\n",
    "    # 时间点\n",
    "    t = np.array([1, 2, 3, 4])\n",
    "    # 化学成分\n",
    "    col = mean_values.columns.shape[0]\n",
    "    # 列表 存储模型和多项式转化器\n",
    "    models_and_transformers = []\n",
    "    # 循环求解\n",
    "    for idx in range(col):\n",
    "        print(f\"{mean_values_hk.columns[idx]}成分的多项式回归分析:\")\n",
    "        # 化学成分数据\n",
    "        y = mean_values_hk.iloc[:,idx]\n",
    "        # 添加一次项和常数项（PolynomialFeatures需要）\n",
    "        X = t[:, np.newaxis]  # 将t转换为二维数组\n",
    "        # degree=2 表示二次多项式, 添加多项式特征\n",
    "        poly_features = PolynomialFeatures(degree=2, include_bias=False)\n",
    "        X_poly = poly_features.fit_transform(X)\n",
    "        # 构建回归模型\n",
    "        model = LinearRegression()\n",
    "        # 拟合数据\n",
    "        model.fit(X_poly, y)\n",
    "        y_poly_pred = model.predict(X_poly)\n",
    "        r_squared = r2_score(y, y_poly_pred)\n",
    "        print(f\"R^2 值: {r_squared}\")\n",
    "        # 获取多项式回归的系数\n",
    "        coefficients = model.coef_\n",
    "        intercept = model.intercept_\n",
    "        # 展示多项式回归方程\n",
    "        print(f\"多项式回归方程: y = {intercept:.4f} + {coefficients[0]:.4f} * t + {coefficients[1]:.4f} * t^2\")\n",
    "        print(\"-\"*20)\n",
    "\n",
    "        # 将模型和多项式特征转换器作为一个元组存入列表\n",
    "        models_and_transformers.append((model,r_squared, poly_features))\n",
    "    return models_and_transformers\n",
    "        "
   ]
  },
  {
   "cell_type": "code",
   "execution_count": 6,
   "metadata": {},
   "outputs": [
    {
     "name": "stdout",
     "output_type": "stream",
     "text": [
      "二氧化硅(SiO2)成分的多项式回归分析:\n",
      "R^2 值: 0.2835496334167078\n",
      "多项式回归方程: y = 40.0770 + 27.9076 * t + -4.9765 * t^2\n",
      "--------------------\n",
      "氧化钠(Na2O)成分的多项式回归分析:\n",
      "R^2 值: 0.3999999999999999\n",
      "多项式回归方程: y = -2.1156 + 3.2439 * t + -0.7052 * t^2\n",
      "--------------------\n",
      "氧化钾(K2O)成分的多项式回归分析:\n",
      "R^2 值: 0.013292579105604219\n",
      "多项式回归方程: y = 10.6938 + -2.4005 * t + 0.4763 * t^2\n",
      "--------------------\n",
      "氧化钙(CaO)成分的多项式回归分析:\n",
      "R^2 值: 0.027228202490758524\n",
      "多项式回归方程: y = 6.9548 + -2.0534 * t + 0.4455 * t^2\n",
      "--------------------\n",
      "氧化镁(MgO)成分的多项式回归分析:\n",
      "R^2 值: 0.9997335291258481\n",
      "多项式回归方程: y = 3.7958 + -2.8222 * t + 0.5587 * t^2\n",
      "--------------------\n",
      "氧化铝(Al2O3)成分的多项式回归分析:\n",
      "R^2 值: 0.6064487973838513\n",
      "多项式回归方程: y = 14.9371 + -7.1931 * t + 1.2106 * t^2\n",
      "--------------------\n",
      "氧化铁(Fe2O3)成分的多项式回归分析:\n",
      "R^2 值: 0.9530782012824836\n",
      "多项式回归方程: y = 7.8229 + -5.4348 * t + 1.0012 * t^2\n",
      "--------------------\n",
      "氧化铜(CuO)成分的多项式回归分析:\n",
      "R^2 值: 0.8912751068619031\n",
      "多项式回归方程: y = 6.6541 + -4.0038 * t + 0.7779 * t^2\n",
      "--------------------\n",
      "氧化铅(PbO)成分的多项式回归分析:\n",
      "R^2 值: 0.9063564954700923\n",
      "多项式回归方程: y = 1.2099 + -0.4491 * t + 0.0338 * t^2\n",
      "--------------------\n",
      "氧化钡(BaO)成分的多项式回归分析:\n",
      "R^2 值: 0.9333333333333332\n",
      "多项式回归方程: y = 4.0885 + -2.8165 * t + 0.4543 * t^2\n",
      "--------------------\n",
      "五氧化二磷(P2O5)成分的多项式回归分析:\n",
      "R^2 值: 0.9596978808509614\n",
      "多项式回归方程: y = 5.7636 + -3.8669 * t + 0.6739 * t^2\n",
      "--------------------\n",
      "氧化锶(SrO)成分的多项式回归分析:\n",
      "R^2 值: 0.9669582009017935\n",
      "多项式回归方程: y = 0.1819 + -0.1213 * t + 0.0204 * t^2\n",
      "--------------------\n",
      "氧化锡(SnO2)成分的多项式回归分析:\n",
      "R^2 值: 0.3999999999999996\n",
      "多项式回归方程: y = -0.3792 + 0.4095 * t + -0.0758 * t^2\n",
      "--------------------\n",
      "二氧化硫(SO2)成分的多项式回归分析:\n",
      "R^2 值: 0.9333333333333332\n",
      "多项式回归方程: y = 0.3153 + -0.3994 * t + 0.1051 * t^2\n",
      "--------------------\n",
      "二氧化硅(SiO2)成分的多项式回归分析:\n",
      "R^2 值: 0.2835496334167078\n",
      "多项式回归方程: y = 40.0770 + 27.9076 * t + -4.9765 * t^2\n",
      "--------------------\n",
      "氧化钠(Na2O)成分的多项式回归分析:\n",
      "R^2 值: 0.3999999999999999\n",
      "多项式回归方程: y = -2.1156 + 3.2439 * t + -0.7052 * t^2\n",
      "--------------------\n",
      "氧化钾(K2O)成分的多项式回归分析:\n",
      "R^2 值: 0.013292579105604219\n",
      "多项式回归方程: y = 10.6938 + -2.4005 * t + 0.4763 * t^2\n",
      "--------------------\n",
      "氧化钙(CaO)成分的多项式回归分析:\n",
      "R^2 值: 0.027228202490758524\n",
      "多项式回归方程: y = 6.9548 + -2.0534 * t + 0.4455 * t^2\n",
      "--------------------\n",
      "氧化镁(MgO)成分的多项式回归分析:\n",
      "R^2 值: 0.9997335291258481\n",
      "多项式回归方程: y = 3.7958 + -2.8222 * t + 0.5587 * t^2\n",
      "--------------------\n",
      "氧化铝(Al2O3)成分的多项式回归分析:\n",
      "R^2 值: 0.6064487973838513\n",
      "多项式回归方程: y = 14.9371 + -7.1931 * t + 1.2106 * t^2\n",
      "--------------------\n",
      "氧化铁(Fe2O3)成分的多项式回归分析:\n",
      "R^2 值: 0.9530782012824836\n",
      "多项式回归方程: y = 7.8229 + -5.4348 * t + 1.0012 * t^2\n",
      "--------------------\n",
      "氧化铜(CuO)成分的多项式回归分析:\n",
      "R^2 值: 0.8912751068619031\n",
      "多项式回归方程: y = 6.6541 + -4.0038 * t + 0.7779 * t^2\n",
      "--------------------\n",
      "氧化铅(PbO)成分的多项式回归分析:\n",
      "R^2 值: 0.9063564954700923\n",
      "多项式回归方程: y = 1.2099 + -0.4491 * t + 0.0338 * t^2\n",
      "--------------------\n",
      "氧化钡(BaO)成分的多项式回归分析:\n",
      "R^2 值: 0.9333333333333332\n",
      "多项式回归方程: y = 4.0885 + -2.8165 * t + 0.4543 * t^2\n",
      "--------------------\n",
      "五氧化二磷(P2O5)成分的多项式回归分析:\n",
      "R^2 值: 0.9596978808509614\n",
      "多项式回归方程: y = 5.7636 + -3.8669 * t + 0.6739 * t^2\n",
      "--------------------\n",
      "氧化锶(SrO)成分的多项式回归分析:\n",
      "R^2 值: 0.9669582009017935\n",
      "多项式回归方程: y = 0.1819 + -0.1213 * t + 0.0204 * t^2\n",
      "--------------------\n",
      "氧化锡(SnO2)成分的多项式回归分析:\n",
      "R^2 值: 0.3999999999999996\n",
      "多项式回归方程: y = -0.3792 + 0.4095 * t + -0.0758 * t^2\n",
      "--------------------\n",
      "二氧化硫(SO2)成分的多项式回归分析:\n",
      "R^2 值: 0.9333333333333332\n",
      "多项式回归方程: y = 0.3153 + -0.3994 * t + 0.1051 * t^2\n",
      "--------------------\n"
     ]
    }
   ],
   "source": [
    "# 获取预测模型以及多项式转化器\n",
    "models_and_trans_pb = regression_analyse(mean_values_pb)\n",
    "models_and_trans_hk = regression_analyse(mean_values_hk)"
   ]
  },
  {
   "cell_type": "markdown",
   "metadata": {},
   "source": [
    "----"
   ]
  },
  {
   "cell_type": "markdown",
   "metadata": {},
   "source": [
    "预测化学成分含量"
   ]
  },
  {
   "cell_type": "markdown",
   "metadata": {},
   "source": [
    "首先获取数据--> 需要预测的数据,以及对应的标准化因子"
   ]
  },
  {
   "cell_type": "code",
   "execution_count": 7,
   "metadata": {},
   "outputs": [],
   "source": [
    "def predict_no_weather(dateGlass,models_and_trans):\n",
    "\n",
    "    # 获取除了未风化的数据 : 化学成分含量, 标准化因子, weather_time, 采样点\n",
    "    need_predict_chem_date = dateGlass[dateGlass[\"weather_time\"] != 0].iloc[:,3:17]\n",
    "    date_standard = dateGlass[dateGlass[\"weather_time\"] != 0].iloc[:,2]\n",
    "    date_weather_time = dateGlass[dateGlass[\"weather_time\"] != 0].iloc[:,17]\n",
    "    date_sample = dateGlass[dateGlass[\"weather_time\"] != 0].iloc[:,1]\n",
    "\n",
    "    date_row = need_predict_chem_date.shape[0]\n",
    "    # 使用array数组进行存储\n",
    "    predict_date = np.zeros((date_row, need_predict_chem_date.shape[1]))\n",
    "    # 对每个数据进行预测\n",
    "    for date_item_idx in range(date_row):\n",
    "        for idx, model_and_tran in enumerate(models_and_trans):\n",
    "            # 原数据中的化学成分含量\n",
    "            npc_date = float(need_predict_chem_date.iloc[date_item_idx,idx])\n",
    "            # weather_time\n",
    "            npc_date_weather_time = date_weather_time.iloc[date_item_idx]\n",
    "            # 标准化因子\n",
    "            npc_date_standard = date_standard.iloc[date_item_idx]\n",
    "            # 预测的数据\n",
    "            need_predict_time = np.array([1,2,3,4])\n",
    "            # 将新数据转换为二维数组\n",
    "            new_need_predict_time = need_predict_time[:, np.newaxis]\n",
    "            # 获取模型和多项式转化模型\n",
    "            model, r_squared, tran = model_and_tran\n",
    "            if r_squared >= 0.9:\n",
    "                # 进行预测\n",
    "                time_poly = tran.transform(new_need_predict_time)\n",
    "                predict_pred = model.predict(time_poly)\n",
    "                # 获取相应时间点预测数据\n",
    "                weather_predict_date = float(predict_pred[npc_date_weather_time])\n",
    "                # 计算未风化时间点数据\n",
    "                if npc_date > weather_predict_date:\n",
    "                    no_weather_date = (math.sqrt(npc_date - weather_predict_date) + predict_pred[0]) / npc_date_standard\n",
    "                else:\n",
    "                    no_weather_date = (math.sqrt(weather_predict_date - npc_date) + predict_pred[0]) / npc_date_standard\n",
    "                # 存储数据\n",
    "                predict_date[date_item_idx,idx] = no_weather_date\n",
    "            else:\n",
    "                predict_date[date_item_idx,idx] = npc_date / npc_date_standard\n",
    "    # 保存为dataFrame数据\n",
    "    nw_date_df = pd.DataFrame(predict_date,\n",
    "                              columns=need_predict_chem_date.columns,\n",
    "                              index=date_sample)\n",
    "\n",
    "    return nw_date_df"
   ]
  },
  {
   "cell_type": "code",
   "execution_count": 8,
   "metadata": {},
   "outputs": [],
   "source": [
    "nw_weather_hk = predict_no_weather(dateGlass_hk, models_and_trans_hk)\n",
    "nw_weather_pb = predict_no_weather(dateGlass_pb, models_and_trans_pb)"
   ]
  },
  {
   "cell_type": "markdown",
   "metadata": {},
   "source": [
    "---"
   ]
  },
  {
   "cell_type": "markdown",
   "metadata": {},
   "source": [
    "存入excle文件中"
   ]
  },
  {
   "cell_type": "code",
   "execution_count": 9,
   "metadata": {},
   "outputs": [],
   "source": [
    "with pd.ExcelWriter(\"predict_no_weather_date.xlsx\") as writer:\n",
    "    nw_weather_pb.to_excel(writer, sheet_name=\"pb_nw_date\")\n",
    "    nw_weather_hk.to_excel(writer, sheet_name=\"hk_nw_date\")\n",
    "    mean_values_pb.to_excel(writer,sheet_name=\"pb_mean\")\n",
    "    mean_values_hk.to_excel(writer,sheet_name=\"hk_mean\")"
   ]
  }
 ],
 "metadata": {
  "kernelspec": {
   "display_name": "mathModel",
   "language": "python",
   "name": "mathmodel"
  },
  "language_info": {
   "codemirror_mode": {
    "name": "ipython",
    "version": 3
   },
   "file_extension": ".py",
   "mimetype": "text/x-python",
   "name": "python",
   "nbconvert_exporter": "python",
   "pygments_lexer": "ipython3",
   "version": "3.10.14"
  }
 },
 "nbformat": 4,
 "nbformat_minor": 2
}
