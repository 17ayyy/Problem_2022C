{
 "cells": [
  {
   "cell_type": "markdown",
   "metadata": {},
   "source": [
    "## 玻璃分类规律"
   ]
  },
  {
   "cell_type": "markdown",
   "metadata": {},
   "source": [
    "### 导入第三方库"
   ]
  },
  {
   "cell_type": "code",
   "execution_count": 1,
   "metadata": {},
   "outputs": [],
   "source": [
    "from sklearn.model_selection import train_test_split\n",
    "from sklearn.linear_model import LogisticRegression\n",
    "from sklearn.metrics import confusion_matrix\n",
    "from sklearn.metrics import accuracy_score, precision_score, recall_score, f1_score, roc_curve, auc, log_loss\n",
    "from sklearn.model_selection import cross_val_score\n",
    "import numpy as np\n",
    "import pandas as pd"
   ]
  },
  {
   "cell_type": "markdown",
   "metadata": {},
   "source": [
    "### 处理数据"
   ]
  },
  {
   "cell_type": "markdown",
   "metadata": {},
   "source": [
    "数据中 x为 12个化学成分, y为其对应的玻璃种类"
   ]
  },
  {
   "cell_type": "code",
   "execution_count": 2,
   "metadata": {},
   "outputs": [],
   "source": [
    "excelpath = \"merged_excel.xlsx\"\n",
    "dateGlass = pd.read_excel(excelpath, sheet_name= 0)\n",
    "# 获取 X 数据\n",
    "x = pd.concat([dateGlass.iloc[:,2:16],dateGlass.iloc[:,17]],axis=1)\n",
    "date_x = np.asarray(x)\n",
    "# 获取对应的 Y 数据\n",
    "date_y = np.asarray(dateGlass.iloc[:,-1])\n",
    "# 划分数据\n",
    "X_train, X_test, y_train, y_test = train_test_split(date_x,date_y,test_size=0.2)"
   ]
  },
  {
   "cell_type": "code",
   "execution_count": 3,
   "metadata": {},
   "outputs": [
    {
     "data": {
      "text/plain": [
       "Index(['二氧化硅(SiO2)', '氧化钠(Na2O)', '氧化钾(K2O)', '氧化钙(CaO)', '氧化镁(MgO)',\n",
       "       '氧化铝(Al2O3)', '氧化铁(Fe2O3)', '氧化铜(CuO)', '氧化铅(PbO)', '氧化钡(BaO)',\n",
       "       '五氧化二磷(P2O5)', '氧化锶(SrO)', '氧化锡(SnO2)', '二氧化硫(SO2)', '表面风化'],\n",
       "      dtype='object')"
      ]
     },
     "execution_count": 3,
     "metadata": {},
     "output_type": "execute_result"
    }
   ],
   "source": [
    "x.columns"
   ]
  },
  {
   "cell_type": "markdown",
   "metadata": {},
   "source": [
    "### 第一种方法: 逻辑回归"
   ]
  },
  {
   "cell_type": "code",
   "execution_count": 4,
   "metadata": {},
   "outputs": [
    {
     "name": "stdout",
     "output_type": "stream",
     "text": [
      "Accuracy: 1.00\n"
     ]
    }
   ],
   "source": [
    "# 创建逻辑回归实例\n",
    "logistic_regression = LogisticRegression(max_iter=1000, solver='lbfgs', penalty='l2',C=1)\n",
    "# 训练模型\n",
    "logistic_regression.fit(X_train, y_train)\n",
    "# 预测测试集\n",
    "y_pred = logistic_regression.predict(X_test)\n",
    "# 计算准确率\n",
    "accuracy = accuracy_score(y_test, y_pred)\n",
    "print(f\"Accuracy: {accuracy:.2f}\")"
   ]
  },
  {
   "cell_type": "code",
   "execution_count": 5,
   "metadata": {},
   "outputs": [
    {
     "data": {
      "text/html": [
       "<div>\n",
       "<style scoped>\n",
       "    .dataframe tbody tr th:only-of-type {\n",
       "        vertical-align: middle;\n",
       "    }\n",
       "\n",
       "    .dataframe tbody tr th {\n",
       "        vertical-align: top;\n",
       "    }\n",
       "\n",
       "    .dataframe thead th {\n",
       "        text-align: right;\n",
       "    }\n",
       "</style>\n",
       "<table border=\"1\" class=\"dataframe\">\n",
       "  <thead>\n",
       "    <tr style=\"text-align: right;\">\n",
       "      <th></th>\n",
       "      <th>Feature</th>\n",
       "      <th>Coefficient</th>\n",
       "    </tr>\n",
       "  </thead>\n",
       "  <tbody>\n",
       "    <tr>\n",
       "      <th>0</th>\n",
       "      <td>二氧化硅(SiO2)</td>\n",
       "      <td>0.071782</td>\n",
       "    </tr>\n",
       "    <tr>\n",
       "      <th>1</th>\n",
       "      <td>氧化钠(Na2O)</td>\n",
       "      <td>-0.042277</td>\n",
       "    </tr>\n",
       "    <tr>\n",
       "      <th>2</th>\n",
       "      <td>氧化钾(K2O)</td>\n",
       "      <td>0.169538</td>\n",
       "    </tr>\n",
       "    <tr>\n",
       "      <th>3</th>\n",
       "      <td>氧化钙(CaO)</td>\n",
       "      <td>0.055349</td>\n",
       "    </tr>\n",
       "    <tr>\n",
       "      <th>4</th>\n",
       "      <td>氧化镁(MgO)</td>\n",
       "      <td>0.005470</td>\n",
       "    </tr>\n",
       "    <tr>\n",
       "      <th>5</th>\n",
       "      <td>氧化铝(Al2O3)</td>\n",
       "      <td>-0.116852</td>\n",
       "    </tr>\n",
       "    <tr>\n",
       "      <th>6</th>\n",
       "      <td>氧化铁(Fe2O3)</td>\n",
       "      <td>0.044352</td>\n",
       "    </tr>\n",
       "    <tr>\n",
       "      <th>7</th>\n",
       "      <td>氧化铜(CuO)</td>\n",
       "      <td>0.062735</td>\n",
       "    </tr>\n",
       "    <tr>\n",
       "      <th>8</th>\n",
       "      <td>氧化铅(PbO)</td>\n",
       "      <td>-0.556363</td>\n",
       "    </tr>\n",
       "    <tr>\n",
       "      <th>9</th>\n",
       "      <td>氧化钡(BaO)</td>\n",
       "      <td>-0.170223</td>\n",
       "    </tr>\n",
       "    <tr>\n",
       "      <th>10</th>\n",
       "      <td>五氧化二磷(P2O5)</td>\n",
       "      <td>0.049235</td>\n",
       "    </tr>\n",
       "    <tr>\n",
       "      <th>11</th>\n",
       "      <td>氧化锶(SrO)</td>\n",
       "      <td>-0.007872</td>\n",
       "    </tr>\n",
       "    <tr>\n",
       "      <th>12</th>\n",
       "      <td>氧化锡(SnO2)</td>\n",
       "      <td>0.000619</td>\n",
       "    </tr>\n",
       "    <tr>\n",
       "      <th>13</th>\n",
       "      <td>二氧化硫(SO2)</td>\n",
       "      <td>-0.001834</td>\n",
       "    </tr>\n",
       "    <tr>\n",
       "      <th>14</th>\n",
       "      <td>表面风化</td>\n",
       "      <td>-0.024775</td>\n",
       "    </tr>\n",
       "  </tbody>\n",
       "</table>\n",
       "</div>"
      ],
      "text/plain": [
       "        Feature  Coefficient\n",
       "0    二氧化硅(SiO2)     0.071782\n",
       "1     氧化钠(Na2O)    -0.042277\n",
       "2      氧化钾(K2O)     0.169538\n",
       "3      氧化钙(CaO)     0.055349\n",
       "4      氧化镁(MgO)     0.005470\n",
       "5    氧化铝(Al2O3)    -0.116852\n",
       "6    氧化铁(Fe2O3)     0.044352\n",
       "7      氧化铜(CuO)     0.062735\n",
       "8      氧化铅(PbO)    -0.556363\n",
       "9      氧化钡(BaO)    -0.170223\n",
       "10  五氧化二磷(P2O5)     0.049235\n",
       "11     氧化锶(SrO)    -0.007872\n",
       "12    氧化锡(SnO2)     0.000619\n",
       "13    二氧化硫(SO2)    -0.001834\n",
       "14         表面风化    -0.024775"
      ]
     },
     "execution_count": 5,
     "metadata": {},
     "output_type": "execute_result"
    }
   ],
   "source": [
    "# 获取各个化学成分的影响 \n",
    "coefficients = logistic_regression.coef_\n",
    "\n",
    "# 获取特征名称和对应的系数\n",
    "feature_coefficients = pd.DataFrame({\n",
    "    'Feature': x.columns,\n",
    "    'Coefficient': logistic_regression.coef_.flatten()\n",
    "})\n",
    "feature_coefficients"
   ]
  },
  {
   "cell_type": "markdown",
   "metadata": {},
   "source": [
    "### 分析分类的统计规律"
   ]
  },
  {
   "cell_type": "code",
   "execution_count": 6,
   "metadata": {},
   "outputs": [],
   "source": [
    "# 混淆矩阵\n",
    "conf_matrix = confusion_matrix(y_test, y_pred)\n",
    "# 计算召回率\n",
    "recall = recall_score(y_test, y_pred)\n",
    "# 计算精确率\n",
    "precision = precision_score(y_test, y_pred)\n",
    "# 计算F1分数\n",
    "f1 = f1_score(y_test, y_pred)\n"
   ]
  },
  {
   "cell_type": "code",
   "execution_count": 7,
   "metadata": {},
   "outputs": [
    {
     "data": {
      "text/html": [
       "<div>\n",
       "<style scoped>\n",
       "    .dataframe tbody tr th:only-of-type {\n",
       "        vertical-align: middle;\n",
       "    }\n",
       "\n",
       "    .dataframe tbody tr th {\n",
       "        vertical-align: top;\n",
       "    }\n",
       "\n",
       "    .dataframe thead th {\n",
       "        text-align: right;\n",
       "    }\n",
       "</style>\n",
       "<table border=\"1\" class=\"dataframe\">\n",
       "  <thead>\n",
       "    <tr style=\"text-align: right;\">\n",
       "      <th></th>\n",
       "      <th>recall</th>\n",
       "      <th>f1_score</th>\n",
       "      <th>precision</th>\n",
       "    </tr>\n",
       "  </thead>\n",
       "  <tbody>\n",
       "    <tr>\n",
       "      <th>value</th>\n",
       "      <td>1.0</td>\n",
       "      <td>1.0</td>\n",
       "      <td>1.0</td>\n",
       "    </tr>\n",
       "  </tbody>\n",
       "</table>\n",
       "</div>"
      ],
      "text/plain": [
       "       recall  f1_score  precision\n",
       "value     1.0       1.0        1.0"
      ]
     },
     "execution_count": 7,
     "metadata": {},
     "output_type": "execute_result"
    }
   ],
   "source": [
    "# 统计表格\n",
    "modelEstValue = {\n",
    "    \"recall\": recall,\n",
    "    \"f1_score\":f1,\n",
    "    \"precision\":precision\n",
    "}\n",
    "modelEstValueDf = pd.DataFrame(modelEstValue,index=[\"value\"])\n",
    "modelEstValueDf"
   ]
  },
  {
   "cell_type": "code",
   "execution_count": 8,
   "metadata": {},
   "outputs": [
    {
     "data": {
      "image/png": "[encoded data removed]",
      "text/plain": [
       "<Figure size 800x600 with 2 Axes>"
      ]
     },
     "metadata": {},
     "output_type": "display_data"
    }
   ],
   "source": [
    "# 生成混淆矩阵热力图\n",
    "import seaborn as sns\n",
    "import matplotlib.pyplot as plt\n",
    "\n",
    "# 绘制混淆矩阵\n",
    "plt.figure(figsize=(8, 6))\n",
    "sns.heatmap(conf_matrix, annot=True, fmt='d', cmap='Blues')\n",
    "plt.xlabel('Predicted Label')\n",
    "plt.ylabel('True Label')\n",
    "plt.title('Confusion Matrix')\n",
    "plt.show()"
   ]
  },
  {
   "cell_type": "markdown",
   "metadata": {},
   "source": [
    "交叉验证"
   ]
  },
  {
   "cell_type": "code",
   "execution_count": 9,
   "metadata": {},
   "outputs": [
    {
     "name": "stdout",
     "output_type": "stream",
     "text": [
      "Accuracies for each fold: [1.0, 1.0, 1.0, 1.0, 1.0]\n",
      "Average accuracy: 1.0\n"
     ]
    }
   ],
   "source": [
    "# 使用分层抽样的K折交叉验证 \n",
    "from sklearn.model_selection import StratifiedKFold\n",
    "skf = StratifiedKFold(n_splits=5)\n",
    "fold_accuracies = []\n",
    "\n",
    "for train_index, test_index in skf.split(date_x, date_y):\n",
    "    \n",
    "    X_train, X_test = date_x[train_index], date_x[test_index]\n",
    "    y_train, y_test = date_y[train_index], date_y[test_index]\n",
    "\n",
    "    logistic_regression.fit(X_train, y_train)\n",
    "    y_pred = logistic_regression.predict(X_test)\n",
    "    fold_accuracy = accuracy_score(y_test, y_pred)\n",
    "    \n",
    "    fold_accuracies.append(fold_accuracy)\n",
    "\n",
    "# 打印每个折的准确率和平均准确率\n",
    "print(\"Accuracies for each fold:\", fold_accuracies)\n",
    "print(\"Average accuracy:\", sum(fold_accuracies) / len(fold_accuracies))\n"
   ]
  },
  {
   "cell_type": "code",
   "execution_count": 10,
   "metadata": {},
   "outputs": [
    {
     "name": "stdout",
     "output_type": "stream",
     "text": [
      "Average accuracy with repeated LOOCV: 1.0\n"
     ]
    }
   ],
   "source": [
    "# 使用留一法进行验证\n",
    "# 重复10次留一法交叉验证\n",
    "from sklearn.model_selection import KFold\n",
    "\n",
    "scores = cross_val_score(logistic_regression, date_x, date_y, cv=KFold(n_splits=10, shuffle=True, random_state=1), scoring='accuracy')\n",
    "print(\"Average accuracy with repeated LOOCV:\", scores.mean())\n"
   ]
  }
 ],
 "metadata": {
  "kernelspec": {
   "display_name": "mathModel",
   "language": "python",
   "name": "mathmodel"
  },
  "language_info": {
   "codemirror_mode": {
    "name": "ipython",
    "version": 3
   },
   "file_extension": ".py",
   "mimetype": "text/x-python",
   "name": "python",
   "nbconvert_exporter": "python",
   "pygments_lexer": "ipython3",
   "version": "3.10.14"
  }
 },
 "nbformat": 4,
 "nbformat_minor": 2
}
