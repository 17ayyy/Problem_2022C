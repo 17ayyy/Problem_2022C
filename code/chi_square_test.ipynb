{
 "cells": [
  {
   "cell_type": "markdown",
   "metadata": {},
   "source": [
    "## 卡方检验"
   ]
  },
  {
   "cell_type": "code",
   "execution_count": 34,
   "metadata": {},
   "outputs": [],
   "source": [
    "# 导入第三方库\n",
    "import pandas as pd\n",
    "import numpy as np\n",
    "from pprint import pprint\n",
    "from scipy.stats import chi2_contingency"
   ]
  },
  {
   "cell_type": "code",
   "execution_count": 35,
   "metadata": {},
   "outputs": [],
   "source": [
    "# 加载数据\n",
    "excelpath = \"excel1_encoding.xlsx\"\n",
    "date_cul = pd.read_excel(excelpath, sheet_name=\"Sheet1\")"
   ]
  },
  {
   "cell_type": "markdown",
   "metadata": {},
   "source": [
    "分析 **表面风化-玻璃类型、表面风化-纹饰、表面风化-颜色** 这三组的相关性，根据结果判断表面风化和哪个变量"
   ]
  },
  {
   "cell_type": "code",
   "execution_count": 36,
   "metadata": {},
   "outputs": [],
   "source": [
    "# 首先为了进行卡方检验需要构建列联表\n",
    "# 对于表面风化-玻璃类型\n",
    "type_windroses_table = pd.crosstab(date_cul['表面风化'], date_cul['类型'])\n",
    "\n",
    "# 对于表面风化-纹饰\n",
    "decoration_windroses_table = pd.crosstab(date_cul['表面风化'], date_cul['纹饰'])\n",
    "\n",
    "# 对于表面风化-颜色\n",
    "color_windroses_table = pd.crosstab(date_cul['表面风化'], date_cul['颜色'])"
   ]
  },
  {
   "cell_type": "code",
   "execution_count": 51,
   "metadata": {},
   "outputs": [
    {
     "name": "stdout",
     "output_type": "stream",
     "text": [
      "'卡方值: 6.88, p值: 0.01, 自由度: 1'\n",
      "期望值:\n",
      "[[16.55172414  7.44827586]\n",
      " [23.44827586 10.55172414]]\n",
      "'0个单元格的期望计数小于5'\n",
      "--------------------\n",
      "'卡方值: 4.96, p值: 0.08, 自由度: 2'\n",
      "期望值:\n",
      "[[ 9.10344828  2.48275862 12.4137931 ]\n",
      " [12.89655172  3.51724138 17.5862069 ]]\n",
      "'2个单元格的期望计数小于5'\n",
      "--------------------\n",
      "'卡方值: 6.86, p值: 0.44, 自由度: 7'\n",
      "期望值:\n",
      "[[ 1.24137931  9.10344828  2.89655172  0.82758621  2.48275862  0.4137931\n",
      "   6.20689655  0.82758621]\n",
      " [ 1.75862069 12.89655172  4.10344828  1.17241379  3.51724138  0.5862069\n",
      "   8.79310345  1.17241379]]\n",
      "'12个单元格的期望计数小于5'\n",
      "--------------------\n"
     ]
    },
    {
     "data": {
      "text/plain": [
       "(6.858976317799849,\n",
       " 0.443709570750047,\n",
       " 7,\n",
       " array([[ 1.24137931,  9.10344828,  2.89655172,  0.82758621,  2.48275862,\n",
       "          0.4137931 ,  6.20689655,  0.82758621],\n",
       "        [ 1.75862069, 12.89655172,  4.10344828,  1.17241379,  3.51724138,\n",
       "          0.5862069 ,  8.79310345,  1.17241379]]))"
      ]
     },
     "execution_count": 51,
     "metadata": {},
     "output_type": "execute_result"
    }
   ],
   "source": [
    "# 进行卡方检验\n",
    "def perform_chi_square(test_table):\n",
    "    chi2, p, dof, expected = chi2_contingency(test_table,correction=False)\n",
    "    pprint(f\"卡方值: {chi2:.2f}, p值: {p:.2f}, 自由度: {dof}\")\n",
    "    print(f\"期望值:\\n{expected}\")\n",
    "    # 检查期望值\n",
    "    expected_no_suit = expected[expected < 5]  # 期望值小于5的需要进行校正\n",
    "    pprint(f\"{len(expected_no_suit)}个单元格的期望计数小于5\")\n",
    "    print(\"-\"*20)\n",
    "    return chi2, p, dof,expected\n",
    "\n",
    "# 执行检验\n",
    "perform_chi_square(type_windroses_table)\n",
    "perform_chi_square(decoration_windroses_table)\n",
    "perform_chi_square(color_windroses_table)"
   ]
  },
  {
   "cell_type": "code",
   "execution_count": 52,
   "metadata": {},
   "outputs": [
    {
     "name": "stdout",
     "output_type": "stream",
     "text": [
      "'卡方值: 4.96, p值: 0.08, 自由度: 2'\n",
      "'卡方值: 6.86, p值: 0.44, 自由度: 7'\n"
     ]
    },
    {
     "data": {
      "text/plain": [
       "(6.858976317799849,\n",
       " 0.443709570750047,\n",
       " 7,\n",
       " array([[ 1.24137931,  9.10344828,  2.89655172,  0.82758621,  2.48275862,\n",
       "          0.4137931 ,  6.20689655,  0.82758621],\n",
       "        [ 1.75862069, 12.89655172,  4.10344828,  1.17241379,  3.51724138,\n",
       "          0.5862069 ,  8.79310345,  1.17241379]]))"
      ]
     },
     "execution_count": 52,
     "metadata": {},
     "output_type": "execute_result"
    }
   ],
   "source": [
    "# 进行Yates校正\n",
    "def perform_chi_square(test_table):\n",
    "    chi2, p, dof, expected = chi2_contingency(test_table,correction=True)\n",
    "    pprint(f\"卡方值: {chi2:.2f}, p值: {p:.2f}, 自由度: {dof}\")\n",
    "    return chi2, p, dof,expected\n",
    "\n",
    "perform_chi_square(decoration_windroses_table)\n",
    "perform_chi_square(color_windroses_table)"
   ]
  }
 ],
 "metadata": {
  "kernelspec": {
   "display_name": "mathModel",
   "language": "python",
   "name": "mathmodel"
  },
  "language_info": {
   "codemirror_mode": {
    "name": "ipython",
    "version": 3
   },
   "file_extension": ".py",
   "mimetype": "text/x-python",
   "name": "python",
   "nbconvert_exporter": "python",
   "pygments_lexer": "ipython3",
   "version": "3.10.14"
  }
 },
 "nbformat": 4,
 "nbformat_minor": 2
}
