{
 "cells": [
  {
   "cell_type": "code",
   "execution_count": 24,
   "metadata": {},
   "outputs": [],
   "source": [
    "# 导入第三方库\n",
    "import pandas as pd\n",
    "import numpy as np\n",
    "import matplotlib.pyplot as plt"
   ]
  },
  {
   "cell_type": "code",
   "execution_count": 25,
   "metadata": {},
   "outputs": [],
   "source": [
    "excel_path = \"merged_excel.xlsx\"\n",
    "df = pd.read_excel(excel_path, sheet_name=0)"
   ]
  },
  {
   "cell_type": "code",
   "execution_count": 26,
   "metadata": {},
   "outputs": [],
   "source": [
    "# 提取出不同类型的 文物数据\n",
    "df_pb = df[df[\"类型\"] == 0]  # 铅钡数据\n",
    "df_hk = df[df[\"类型\"] == 1]  # 高钾数据"
   ]
  },
  {
   "cell_type": "code",
   "execution_count": 34,
   "metadata": {},
   "outputs": [],
   "source": [
    "# 提取主要物质浓度\n",
    "df_pb_con = np.asarray(df_pb[\"氧化钡(BaO)\"] + df_pb[\"氧化铅(PbO)\"])\n",
    "df_hk_con = np.asarray(df_hk[\"氧化钾(K2O)\"])"
   ]
  },
  {
   "cell_type": "code",
   "execution_count": 35,
   "metadata": {},
   "outputs": [
    {
     "data": {
      "text/plain": [
       "array([47.43, 59.91, 63.07, 40.  , 48.17, 32.85, 28.84, 55.37, 38.55,\n",
       "       61.78, 65.37, 21.18, 14.34, 49.51, 48.09, 19.97, 24.64, 19.71,\n",
       "       56.55, 27.73, 52.44, 27.58, 59.1 , 68.25, 76.9 , 53.88, 32.35,\n",
       "       31.  , 67.14, 48.01, 18.83, 26.95, 35.31, 34.63, 23.02, 40.28,\n",
       "       27.21, 58.2 , 36.83, 49.18, 51.34, 56.06, 22.65, 62.5 , 58.46,\n",
       "       40.87, 56.7 , 62.4 , 47.01])"
      ]
     },
     "execution_count": 35,
     "metadata": {},
     "output_type": "execute_result"
    }
   ],
   "source": [
    "df_pb_con"
   ]
  },
  {
   "cell_type": "code",
   "execution_count": 36,
   "metadata": {},
   "outputs": [
    {
     "data": {
      "text/plain": [
       "((18,), (49,))"
      ]
     },
     "execution_count": 36,
     "metadata": {},
     "output_type": "execute_result"
    }
   ],
   "source": [
    "df_hk_con.shape,df_pb_con.shape"
   ]
  },
  {
   "cell_type": "code",
   "execution_count": 40,
   "metadata": {},
   "outputs": [
    {
     "data": {
      "text/plain": [
       "<matplotlib.collections.PathCollection at 0x1efc3291f60>"
      ]
     },
     "execution_count": 40,
     "metadata": {},
     "output_type": "execute_result"
    },
    {
     "data": {
      "image/png": "[encoded data removed]",
      "text/plain": [
       "<Figure size 500x270 with 1 Axes>"
      ]
     },
     "metadata": {},
     "output_type": "display_data"
    }
   ],
   "source": [
    "fig, ax = plt.subplots(figsize=(5, 2.7), layout='constrained')\n",
    "ax.scatter(np.linspace(0,49,49,dtype=int), df_pb_con)\n"
   ]
  },
  {
   "cell_type": "code",
   "execution_count": 38,
   "metadata": {},
   "outputs": [
    {
     "data": {
      "text/plain": [
       "<matplotlib.collections.PathCollection at 0x1efc04b1720>"
      ]
     },
     "execution_count": 38,
     "metadata": {},
     "output_type": "execute_result"
    },
    {
     "data": {
      "image/png": "[encoded data removed]",
      "text/plain": [
       "<Figure size 500x270 with 1 Axes>"
      ]
     },
     "metadata": {},
     "output_type": "display_data"
    }
   ],
   "source": [
    "fig_hk, ax_hk = plt.subplots(figsize=(5, 2.7), layout='constrained')\n",
    "ax_hk.scatter(np.linspace(0,18,18,dtype=int), df_hk_con)"
   ]
  }
 ],
 "metadata": {
  "kernelspec": {
   "display_name": "mathModel",
   "language": "python",
   "name": "mathmodel"
  },
  "language_info": {
   "codemirror_mode": {
    "name": "ipython",
    "version": 3
   },
   "file_extension": ".py",
   "mimetype": "text/x-python",
   "name": "python",
   "nbconvert_exporter": "python",
   "pygments_lexer": "ipython3",
   "version": "3.10.14"
  }
 },
 "nbformat": 4,
 "nbformat_minor": 2
}
