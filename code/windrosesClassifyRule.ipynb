{
 "cells": [
  {
   "cell_type": "markdown",
   "metadata": {},
   "source": [
    "### 导入第三方库"
   ]
  },
  {
   "cell_type": "code",
   "execution_count": 1,
   "metadata": {},
   "outputs": [],
   "source": [
    "from sklearn.preprocessing import StandardScaler\n",
    "from sklearn.cluster import AgglomerativeClustering\n",
    "from gower import gower_matrix\n",
    "\n",
    "import numpy as np\n",
    "import pandas as pd"
   ]
  },
  {
   "cell_type": "markdown",
   "metadata": {},
   "source": [
    "#### 数据预处理"
   ]
  },
  {
   "cell_type": "code",
   "execution_count": 2,
   "metadata": {},
   "outputs": [],
   "source": [
    "excelpath = \"merged_excel.xlsx\"\n",
    "dateGlass = pd.read_excel(excelpath, sheet_name=\"standard\")"
   ]
  },
  {
   "cell_type": "code",
   "execution_count": 3,
   "metadata": {},
   "outputs": [],
   "source": [
    "def dateProcess(dateGlass,type:int):\n",
    "\n",
    "    dateGlass_value = (dateGlass[dateGlass[\"类型\"] == type]\n",
    "                .iloc[:,3:17]\n",
    "                .reset_index(drop=True))\n",
    "    dateGlass_sample = (dateGlass[dateGlass[\"类型\"] == type]\n",
    "                .iloc[:,1]\n",
    "                .reset_index(drop=True))\n",
    "    dateGlass_all = pd.concat([dateGlass_sample, dateGlass_value],axis=1)\n",
    "\n",
    "    return dateGlass_all,dateGlass_value"
   ]
  },
  {
   "cell_type": "code",
   "execution_count": 4,
   "metadata": {},
   "outputs": [],
   "source": [
    "# 提取出不同类型的 文物数据 的 成分性数据\n",
    "dateGlass_pb_all, dateGlass_pb_value = dateProcess(dateGlass,0) # 铅钡\n",
    "dateGlass_hk_all, dateGlass_hk_value = dateProcess(dateGlass,1)  # 高钾"
   ]
  },
  {
   "cell_type": "code",
   "execution_count": 5,
   "metadata": {},
   "outputs": [
    {
     "data": {
      "text/plain": [
       "Index(['文物采样点', '二氧化硅(SiO2)', '氧化钠(Na2O)', '氧化钾(K2O)', '氧化钙(CaO)', '氧化镁(MgO)',\n",
       "       '氧化铝(Al2O3)', '氧化铁(Fe2O3)', '氧化铜(CuO)', '氧化铅(PbO)', '氧化钡(BaO)',\n",
       "       '五氧化二磷(P2O5)', '氧化锶(SrO)', '氧化锡(SnO2)', '二氧化硫(SO2)'],\n",
       "      dtype='object')"
      ]
     },
     "execution_count": 5,
     "metadata": {},
     "output_type": "execute_result"
    }
   ],
   "source": [
    "dateGlass_pb_all.columns"
   ]
  },
  {
   "cell_type": "markdown",
   "metadata": {},
   "source": [
    "使用层次聚类分析 来求解成分性数据"
   ]
  },
  {
   "cell_type": "code",
   "execution_count": 6,
   "metadata": {},
   "outputs": [],
   "source": [
    "def clusterClassify_2(dateGlass):\n",
    "    \n",
    "    # 计算Gower距离矩阵\n",
    "    gower_dist = gower_matrix(dateGlass)\n",
    "\n",
    "    # 创建StandardScaler实例\n",
    "    scaler = StandardScaler()\n",
    "\n",
    "    # 标准正态分布缩放Gower距离矩阵\n",
    "    ilr_data_scaled = scaler.fit_transform(gower_dist)\n",
    "\n",
    "    # 使用层次聚类算法，选择簇数为 2\n",
    "    clustering_model = AgglomerativeClustering(n_clusters=2,linkage='ward')\n",
    "\n",
    "    # 拟合模型并预测簇标签\n",
    "    cluster_labels = clustering_model.fit_predict(ilr_data_scaled)\n",
    "    # 返回聚类结果\n",
    "    return cluster_labels"
   ]
  },
  {
   "cell_type": "code",
   "execution_count": 7,
   "metadata": {},
   "outputs": [],
   "source": [
    "cluster_labels_pb_2 = clusterClassify_2(dateGlass_pb_value)\n",
    "cluster_labels_hk_2 = clusterClassify_2(dateGlass_hk_value)"
   ]
  },
  {
   "cell_type": "markdown",
   "metadata": {},
   "source": [
    "算法结果"
   ]
  },
  {
   "cell_type": "code",
   "execution_count": 8,
   "metadata": {},
   "outputs": [
    {
     "name": "stdout",
     "output_type": "stream",
     "text": [
      "铅钡-是否风化分类结果\n",
      "层次聚类数据\n",
      "风化数据:\n",
      "[0.         0.         0.         0.         0.         0.\n",
      " 0.         0.         0.         3.66073215 0.         0.\n",
      " 0.         0.         0.         0.         0.         0.\n",
      " 0.         0.        ]\n",
      "无风化数据:\n",
      "[ 0.          2.58465237 15.2992671   0.          0.          0.\n",
      "  0.          1.96353436 15.96756432  0.          0.          0.\n",
      "  0.          0.          0.          0.          0.          0.\n",
      "  0.          0.          0.          0.          0.          0.\n",
      "  0.          0.          0.          0.          0.        ]\n"
     ]
    }
   ],
   "source": [
    "# 先对结果进行筛选\n",
    "print(\"铅钡-是否风化分类结果\")\n",
    "print(\"层次聚类数据\")\n",
    "# 根据array数组提取风化和无风化数据的索引\n",
    "weather_indices = np.where(cluster_labels_pb_2 == 1)[0]  # 风化数据的索引\n",
    "no_weather_indices = np.where(cluster_labels_pb_2 == 0)[0]  # 无风化数据的索引\n",
    "# 提取风化数据\n",
    "weather_data = np.asarray(dateGlass_pb_all.iloc[weather_indices].iloc[:,0])\n",
    "# 提取无风化数据\n",
    "no_weather_data = np.asarray(dateGlass_pb_all.iloc[no_weather_indices].iloc[:,0])\n",
    "print(f\"风化数据:\\n{weather_data}\")\n",
    "print(f\"无风化数据:\\n{no_weather_data}\")"
   ]
  },
  {
   "cell_type": "code",
   "execution_count": 9,
   "metadata": {},
   "outputs": [
    {
     "name": "stdout",
     "output_type": "stream",
     "text": [
      "高钾-是否风化分类结果\n",
      "层次聚类数据\n",
      "风化数据:\n",
      "[0. 0. 0. 0. 0. 0. 0. 0.]\n",
      "无风化数据:\n",
      "[0.39954923 0.         0.37476577 0.48699617 0.         0.\n",
      " 0.         0.         0.         0.        ]\n"
     ]
    }
   ],
   "source": [
    "# 先对结果进行筛选\n",
    "print(\"高钾-是否风化分类结果\")\n",
    "print(\"层次聚类数据\")\n",
    "# 根据array数组提取风化和无风化数据的索引\n",
    "weather_indices = np.where(cluster_labels_hk_2 == 1)[0]  # 风化数据的索引\n",
    "no_weather_indices = np.where(cluster_labels_hk_2 == 0)[0]  # 无风化数据的索引\n",
    "# 提取风化数据\n",
    "weather_data = np.asarray(dateGlass_hk_all.iloc[weather_indices].iloc[:,0])\n",
    "# 提取无风化数据\n",
    "no_weather_data = np.asarray(dateGlass_hk_all.iloc[no_weather_indices].iloc[:,0])\n",
    "print(f\"风化数据:\\n{weather_data}\")\n",
    "print(f\"无风化数据:\\n{no_weather_data}\")"
   ]
  },
  {
   "cell_type": "markdown",
   "metadata": {},
   "source": [
    "-----------------------"
   ]
  },
  {
   "cell_type": "markdown",
   "metadata": {},
   "source": [
    "四分类-建立时间序列"
   ]
  },
  {
   "cell_type": "code",
   "execution_count": 10,
   "metadata": {},
   "outputs": [],
   "source": [
    "def clusterClassify_4(dateGlass):\n",
    "    \n",
    "    # 计算Gower距离矩阵\n",
    "    gower_dist = gower_matrix(dateGlass)\n",
    "\n",
    "    # 创建StandardScaler实例\n",
    "    scaler = StandardScaler()\n",
    "\n",
    "    # 标准正态分布 缩放Gower距离矩阵\n",
    "    ilr_data_scaled = scaler.fit_transform(gower_dist)\n",
    "\n",
    "    # 使用层次聚类算法，选择簇数为 2\n",
    "    clustering_model = AgglomerativeClustering(n_clusters=4,linkage='ward')\n",
    "\n",
    "    # 拟合模型并预测簇标签\n",
    "    cluster_labels = clustering_model.fit_predict(ilr_data_scaled)\n",
    "    # 返回聚类结果\n",
    "    return cluster_labels"
   ]
  },
  {
   "cell_type": "code",
   "execution_count": 11,
   "metadata": {},
   "outputs": [],
   "source": [
    "cluster_labels_pb_4 = clusterClassify_4(dateGlass_pb_value)\n",
    "cluster_labels_hk_4 = clusterClassify_4(dateGlass_hk_value)"
   ]
  },
  {
   "cell_type": "code",
   "execution_count": 12,
   "metadata": {},
   "outputs": [
    {
     "data": {
      "text/plain": [
       "array([3, 2, 2, 1, 1, 2, 0, 2, 0, 2, 2, 0, 0, 3, 3, 0, 0, 0, 1, 0, 0, 0,\n",
       "       1, 1, 1, 3, 0, 0, 3, 3, 0, 0, 0, 0, 0, 3, 0, 1, 1, 3, 3, 1, 0, 1,\n",
       "       3, 0, 1, 1, 1], dtype=int64)"
      ]
     },
     "execution_count": 12,
     "metadata": {},
     "output_type": "execute_result"
    }
   ],
   "source": [
    "cluster_labels_pb_4"
   ]
  },
  {
   "cell_type": "markdown",
   "metadata": {},
   "source": [
    "算法结果"
   ]
  },
  {
   "cell_type": "code",
   "execution_count": 18,
   "metadata": {},
   "outputs": [
    {
     "name": "stdout",
     "output_type": "stream",
     "text": [
      "铅钡-是否风化分类结果\n",
      "层次聚类数据\n",
      "无风化数据:\n",
      "['23未风化点' '25未风化点' '28未风化点' '29未风化点' '31' '32' '33' '35' '36' '37'\n",
      " '42未风化点1' '42未风化点2' '44未风化点' '45' '46' '47' '48' '49未风化点' '53未风化点' '55']\n",
      "轻度风化数据:\n",
      "[35.21333473 30.01215067 36.68990976 33.40773055 26.57958688 16.9524196\n",
      " 19.94011312 46.44109759 27.35969388 22.35376743 31.60234172 27.48999676\n",
      " 30.77156744]\n",
      "中度风化数据:\n",
      "[20.17631737  4.69258958 42.25766316 32.30177994 19.82568624  3.72409651]\n",
      "重度风化数据:\n",
      "[36.31995195 35.05870342 37.41641337 19.6990716  13.10730883 22.44750181\n",
      " 30.14659686 25.81558796 23.28244275 17.65373504]\n"
     ]
    }
   ],
   "source": [
    "# 先对结果进行筛选\n",
    "print(\"铅钡-是否风化分类结果\")\n",
    "print(\"层次聚类数据\")\n",
    "# 根据array数组提取风化和无风化数据的索引\n",
    "weather_indices_0 = np.where(cluster_labels_pb_4 == 0)[0]  # 无风化数据的索引\n",
    "weather_indices_1 = np.where(cluster_labels_pb_4 == 1)[0]  # 轻度风化\n",
    "weather_indices_2 = np.where(cluster_labels_pb_4 == 2)[0]  # 中度风化\n",
    "weather_indices_3 = np.where(cluster_labels_pb_4 == 3)[0]  # 重度风化\n",
    "# 提取风化数据\n",
    "weather_data_0 = np.asarray(dateGlass_pb_all.iloc[weather_indices_0].iloc[:,0])\n",
    "weather_data_1 = np.asarray(dateGlass_pb_all.iloc[weather_indices_1].iloc[:,0])\n",
    "weather_data_2 = np.asarray(dateGlass_pb_all.iloc[weather_indices_2].iloc[:,0])\n",
    "weather_data_3 = np.asarray(dateGlass_pb_all.iloc[weather_indices_3].iloc[:,0])\n",
    "print(f\"无风化数据:\\n{weather_data_0}\")\n",
    "print(f\"轻度风化数据:\\n{weather_data_1}\")\n",
    "print(f\"中度风化数据:\\n{weather_data_2}\")\n",
    "print(f\"重度风化数据:\\n{weather_data_3}\")"
   ]
  },
  {
   "cell_type": "code",
   "execution_count": 19,
   "metadata": {},
   "outputs": [
    {
     "name": "stdout",
     "output_type": "stream",
     "text": [
      "高钾-是否风化分类结果\n",
      "层次聚类数据\n",
      "无风化数据:\n",
      "['03部位2' '06部位1' '06部位2' '21']\n",
      "轻度风化数据:\n",
      "['03部位1' '07' '09' '10' '12' '18' '22' '27']\n",
      "中度风化数据:\n",
      "['13' '14' '16']\n",
      "重度风化数据:\n",
      "['01' '04' '05']\n"
     ]
    }
   ],
   "source": [
    "# 先对结果进行筛选\n",
    "print(\"高钾-是否风化分类结果\")\n",
    "print(\"层次聚类数据\")\n",
    "# 根据array数组提取风化和无风化数据的s索引\n",
    "weather_indices_0 = np.where(cluster_labels_hk_4 == 0)[0]  # 无风化数据的索引\n",
    "weather_indices_1 = np.where(cluster_labels_hk_4 == 1)[0]  # 轻度风化\n",
    "weather_indices_2 = np.where(cluster_labels_hk_4 == 2)[0]  # 中度风化\n",
    "weather_indices_3 = np.where(cluster_labels_hk_4 == 3)[0]  # 重度风化\n",
    "# 提取风化数据\n",
    "weather_data_0 = np.asarray(dateGlass_hk_all.iloc[weather_indices_0].iloc[:,0])\n",
    "weather_data_1 = np.asarray(dateGlass_hk_all.iloc[weather_indices_1].iloc[:,0])\n",
    "weather_data_2 = np.asarray(dateGlass_hk_all.iloc[weather_indices_2].iloc[:,0])\n",
    "weather_data_3 = np.asarray(dateGlass_hk_all.iloc[weather_indices_3].iloc[:,0])\n",
    "print(f\"无风化数据:\\n{weather_data_0}\")\n",
    "print(f\"轻度风化数据:\\n{weather_data_1}\")\n",
    "print(f\"中度风化数据:\\n{weather_data_2}\")\n",
    "print(f\"重度风化数据:\\n{weather_data_3}\")"
   ]
  },
  {
   "cell_type": "markdown",
   "metadata": {},
   "source": [
    "---"
   ]
  },
  {
   "cell_type": "markdown",
   "metadata": {},
   "source": [
    "将数据存入新的表格中"
   ]
  },
  {
   "cell_type": "code",
   "execution_count": 20,
   "metadata": {},
   "outputs": [],
   "source": [
    "dateGlass_pb_all[\"weather_time\"] = cluster_labels_pb_4\n",
    "dateGlass_hk_all[\"weather_time\"] = cluster_labels_hk_4\n",
    "dateGlass_pb_all[\"weather_or_no\"] = cluster_labels_pb_2\n",
    "dateGlass_hk_all[\"weather_or_no\"] = cluster_labels_hk_2"
   ]
  },
  {
   "cell_type": "code",
   "execution_count": 21,
   "metadata": {},
   "outputs": [],
   "source": [
    "with pd.ExcelWriter(\"date_weather_type.xlsx\") as writer:\n",
    "    dateGlass_pb_all.to_excel(writer, sheet_name=\"pb\")\n",
    "    dateGlass_hk_all.to_excel(writer, sheet_name=\"hk\")"
   ]
  }
 ],
 "metadata": {
  "kernelspec": {
   "display_name": "mathModel",
   "language": "python",
   "name": "mathmodel"
  },
  "language_info": {
   "codemirror_mode": {
    "name": "ipython",
    "version": 3
   },
   "file_extension": ".py",
   "mimetype": "text/x-python",
   "name": "python",
   "nbconvert_exporter": "python",
   "pygments_lexer": "ipython3",
   "version": "3.10.14"
  }
 },
 "nbformat": 4,
 "nbformat_minor": 2
}
